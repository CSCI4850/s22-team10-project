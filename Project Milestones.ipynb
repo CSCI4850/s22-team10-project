{
 "cells": [
  {
   "cell_type": "markdown",
   "id": "0fcea6c0-45df-4362-a353-c767fb9bd948",
   "metadata": {},
   "source": [
    "# Project Milestone 1 <br> March 15"
   ]
  },
  {
   "cell_type": "markdown",
   "id": "9846f392-1dbf-48d7-bf93-bf3f11e01817",
   "metadata": {},
   "source": [
    "|Deliverable|Percent Complete|Estimated Completion Date|Percent Complete by Next Milestone|\n",
    "|---|---|---|---|\n",
    "|Code|0%|April 14|10-15%|\n",
    "|Demo|0%|May 1|0%|\n",
    "|Presentation|0%|May 3|5%|"
   ]
  },
  {
   "cell_type": "markdown",
   "id": "3798f08f-26b6-4d49-bfff-ecf6b1a851ab",
   "metadata": {},
   "source": [
    "1. N/A\n",
    "2. N/A\n",
    "3. Deliverables:\n",
    "    - Introduction of the presentation\n",
    "        - Yassaman\n",
    "    - How and Where to pull images\n",
    "        - Matt\n",
    "    - Decide how to group regions for data collection\n",
    "        - Riley\n",
    "    - Start source code\n",
    "        - Andrew, Jansen"
   ]
  }
 ],
 "metadata": {
  "kernelspec": {
   "display_name": "Python 3 (ipykernel)",
   "language": "python",
   "name": "python3"
  },
  "language_info": {
   "codemirror_mode": {
    "name": "ipython",
    "version": 3
   },
   "file_extension": ".py",
   "mimetype": "text/x-python",
   "name": "python",
   "nbconvert_exporter": "python",
   "pygments_lexer": "ipython3",
   "version": "3.9.7"
  }
 },
 "nbformat": 4,
 "nbformat_minor": 5
}
