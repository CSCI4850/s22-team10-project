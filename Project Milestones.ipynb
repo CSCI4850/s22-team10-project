{
 "cells": [
  {
   "cell_type": "markdown",
   "id": "0fcea6c0-45df-4362-a353-c767fb9bd948",
   "metadata": {
    "tags": []
   },
   "source": [
    "# Project Milestone 1 <br> March 15"
   ]
  },
  {
   "cell_type": "markdown",
   "id": "9846f392-1dbf-48d7-bf93-bf3f11e01817",
   "metadata": {},
   "source": [
    "|Deliverable|Percent Complete|Estimated Completion Date|Percent Complete by Next Milestone|\n",
    "|---|---|---|---|\n",
    "|Code|0%|April 14|10-15%|\n",
    "|Demo|0%|May 1|0%|\n",
    "|Presentation|0%|May 3|5%|"
   ]
  },
  {
   "cell_type": "markdown",
   "id": "3798f08f-26b6-4d49-bfff-ecf6b1a851ab",
   "metadata": {},
   "source": [
    "1. N/A\n",
    "2. N/A\n",
    "3. Deliverables:\n",
    "    - Introduction of the presentation\n",
    "        - Yassaman\n",
    "    - How and Where to pull images\n",
    "        - Matt\n",
    "    - Decide how to group regions for data collection\n",
    "        - Riley\n",
    "    - Start source code\n",
    "        - Andrew, Jansen"
   ]
  },
  {
   "cell_type": "markdown",
   "id": "b63d653a-184f-40f1-9810-c83587f2e1e1",
   "metadata": {
    "tags": []
   },
   "source": [
    "# Project Milestone 2 <br> March 21"
   ]
  },
  {
   "cell_type": "markdown",
   "id": "295662e4-88f5-43a1-80ef-1e142503b891",
   "metadata": {},
   "source": [
    "|Deliverable|Percent Complete|Estimated Completion Date|Percent Complete by Next Milestone|\n",
    "|---|---|---|---|\n",
    "|Code|5%|April 14|10-15%|\n",
    "|Demo|0%|May 1|0%|\n",
    "|Presentation|5%|May 3|5%|"
   ]
  },
  {
   "cell_type": "markdown",
   "id": "7499c891-db1f-486d-b066-e57322aba50e",
   "metadata": {},
   "source": [
    "1. Jansen: Signed up for Google API in order to collect pictures for data set. <br>\n",
    "   Yassaman: Watched videos regarding geoguessr and how to best present it to the class and looked into different types of presentaion softwares. Found the following resource: https://www.visme.co/presentation-software/\n",
    "2. Andrew: Reviewed online resources and related studies to determine the best deep learning algorithms to use and how to best implement them.<br>\n",
    "   Jansen: Was unable to start pulling images.<br>\n",
    "   Matt: Set up a google cloud platform account and tested scarping some images to ensure we get a set free amount. Started to set up the code to use for our data scraper.<br>\n",
    "   Riley: Experimented with the python extension shapely to get correct portions of the U.S. for sample data.\n",
    "3. Deliverables:\n",
    "    - Learn Google API to create dataset\n",
    "        - Jansen\n",
    "    - Complete code for the data scraper\n",
    "        - Matt\n",
    "    - Continue to learn shapely and how best to implement it\n",
    "        - Riley\n",
    "    - Continue to research neural networks and develop a basic framework to implement.\n",
    "        - Andrew, Yassaman"
   ]
  },
  {
   "cell_type": "markdown",
   "id": "90907cc2-167a-447b-a644-de3de4fd0e26",
   "metadata": {
    "tags": []
   },
   "source": [
    "# Project Milestone 3 <br> March 28"
   ]
  },
  {
   "cell_type": "markdown",
   "id": "2f8021db-4e3a-4588-9151-5af1aa63f0a8",
   "metadata": {},
   "source": [
    "|Deliverable|Percent Complete|Estimated Completion Date|Percent Complete by Next Milestone|\n",
    "|---|---|---|---|\n",
    "|Code|5%|April 14|10-15%|\n",
    "|Demo|0%|May 1|0%|\n",
    "|Presentation|5%|May 3|5%|"
   ]
  },
  {
   "cell_type": "markdown",
   "id": "3499391a-c21c-449d-b689-a6e69b29456c",
   "metadata": {},
   "source": [
    "1. Riley: Learned how to use shapely to split the U.S. into sections.<br>\n",
    "   Andrew & Yassaman: Narrowed the list of neural networks down to a list that could best work for the project.<br>\n",
    "2. Andrew & Yassaman: Did not start developing a framework for the neural network.<br>\n",
    "   Jansen: Continuing progress on developing a dataset to use.<br>\n",
    "   Matt: Talked to Dr. Phillips about difficulties faced developing a data scraper; still in progress.<br>\n",
    "3. Deliverables:\n",
    "    - Continue using working with the Google API.\n",
    "        - Jansen\n",
    "    - Complete code for the data scraper\n",
    "        - Matt\n",
    "    - Determine the best sizes for sections and the coordinates of these sections.\n",
    "        - Riley\n",
    "    - Develope a basic framework to implement.\n",
    "        - Andrew, Yassaman"
   ]
  },
  {
   "cell_type": "markdown",
   "id": "6adbbd5d-0ae8-416d-adb7-6bbf1e31dff9",
   "metadata": {
    "tags": []
   },
   "source": [
    "# Project Milestone 4 <br> April 4"
   ]
  },
  {
   "cell_type": "markdown",
   "id": "c09bc95b-8d19-4ab1-ace7-bef899e7b781",
   "metadata": {},
   "source": [
    "|Deliverable|Percent Complete|Estimated Completion Date|Percent Complete by Next Milestone|\n",
    "|---|---|---|---|\n",
    "|Code|15%|April 14|20-35%|\n",
    "|Demo|0%|May 1|0%|\n",
    "|Presentation|5%|May 3|5%|"
   ]
  },
  {
   "cell_type": "markdown",
   "id": "e4f0cbf2-3875-4983-aced-5448f8d20a24",
   "metadata": {},
   "source": [
    "1. Jansen: Finished the data scraper.<br>\n",
    "   Matt: Started the outline for the CNN.<br>\n",
    "   Andrew & Yassaman: Determined that using two networks, a CNN and LSTM network, together have proven useful in similar applications. Started building the LSTM network.<br>\n",
    "2. Riley: Did not have time this week.<br>\n",
    "3. Deliverables:\n",
    "    - Start developing the CNN.\n",
    "        - Jansen, Matt\n",
    "    - Use the data scraper to start collecting data.\n",
    "        - Matt\n",
    "    - Determine the best sizes for sections and the coordinates of these sections.\n",
    "        - Riley\n",
    "    - Continue developing the LSTM network in conjuction with the development of the CNN.\n",
    "        - Andrew, Yassaman"
   ]
  },
  {
   "cell_type": "markdown",
   "id": "c7e6ee4b-e232-4de1-b832-53a98cdd31f9",
   "metadata": {
    "tags": []
   },
   "source": [
    "# Project Milestone 5 <br> April 11"
   ]
  },
  {
   "cell_type": "markdown",
   "id": "5594efbf-6e9d-4dad-9e20-5fb49bb24d0b",
   "metadata": {},
   "source": [
    "|Deliverable|Percent Complete|Estimated Completion Date|Percent Complete by Next Milestone|\n",
    "|---|---|---|---|\n",
    "|Code|40%|April 25|50-65%|\n",
    "|Demo|0%|May 1|0%|\n",
    "|Presentation|5%|May 3|5%|"
   ]
  },
  {
   "cell_type": "markdown",
   "id": "1653769f-a627-4994-8a76-7b6116eae494",
   "metadata": {},
   "source": [
    "1. Matt: Finished downloading all our test data.<br>\n",
    "   Andrew: Built a CNN and LSTM network.<br>\n",
    "2. Most of the group has been busy with group projects in other classes; these are winding down and we expect to see an increase in productivity moving forward.<br>\n",
    "   Riley: Did not have time this week.<br>\n",
    "   Jansen: Did not have time this week. <br>\n",
    "   Yassaman: Did not have time this week.\n",
    "3. Deliverables:\n",
    "    - See if we can improve upon the CNN/LSTM network we have.\n",
    "        - Jansen\n",
    "    - Use our current network and start implementing large data sets into it.\n",
    "        - Matt, Andrew\n",
    "    - Determine the best sizes for sections and the coordinates of these sections.\n",
    "        - Riley, Yassaman"
   ]
  },
  {
   "cell_type": "markdown",
   "id": "11b8dbf9-678a-4a2a-8216-4364fd94b34e",
   "metadata": {
    "tags": []
   },
   "source": [
    "# Project Milestone 6 <br> April 18"
   ]
  },
  {
   "cell_type": "markdown",
   "id": "11e526b2-3d78-4780-8662-0dcfd920caab",
   "metadata": {},
   "source": [
    "|Deliverable|Percent Complete|Estimated Completion Date|Percent Complete by Next Milestone|\n",
    "|---|---|---|---|\n",
    "|Code|75%|April 25|100%|\n",
    "|Demo|0%|May 1|0%|\n",
    "|Presentation|5%|May 3|5%|"
   ]
  },
  {
   "cell_type": "markdown",
   "id": "8c1a20d6-1744-4e71-b8d8-dbbe43952c79",
   "metadata": {},
   "source": [
    "1. Matt & Andrew: Cleaned and organized data.<br>\n",
    "   Jansen: worked on developing the parameters for the neural network.<br>\n",
    "   Riley & Yassaman: Started implementing shapely with the dataset.<br>\n",
    "2. N/A<br>\n",
    "3. Deliverables:\n",
    "    - Start developing an outline for the presentation.\n",
    "        - Jansen\n",
    "    - Start training the network.\n",
    "        - Matt, Andrew\n",
    "    - Finish implementing shapely into codebase.\n",
    "        - Riley, Yassaman"
   ]
  },
  {
   "cell_type": "markdown",
   "id": "3a939b66-3b8a-46fc-98f2-e82d38d797c7",
   "metadata": {},
   "source": [
    "# Project Milestone 7 <br> April 25"
   ]
  },
  {
   "cell_type": "markdown",
   "id": "216afaad-6273-43e7-9348-2da653651caf",
   "metadata": {},
   "source": [
    "|Deliverable|Percent Complete|Estimated Completion Date|Percent Complete by Next Milestone|\n",
    "|---|---|---|---|\n",
    "|Code|85%|April 27|100%|\n",
    "|Demo|0%|May 1|0%|\n",
    "|Presentation|25%|May 3|100%|"
   ]
  },
  {
   "cell_type": "markdown",
   "id": "15b91fff-92fd-4743-9dea-ff650a1b6579",
   "metadata": {},
   "source": [
    "1. Andrew: Worked on fixing errors in the model training code.<br>\n",
    "   Jansen: Worked on developing the outline for the project demo.<br>\n",
    "   Riley & Yassaman: Continued to work on final presentation.<br>\n",
    "   Matt: Worked on helping Andrew fix bugs in the scripts\n",
    "2. Finishing code\n",
    "3. Deliverables:\n",
    "    - Work on demo for the presentation.\n",
    "        - Jansen\n",
    "    - Finish network, save model, complete README.\n",
    "        - Matt, Andrew\n",
    "    - Work on completing presentation slides.\n",
    "        - Riley, Yassaman"
   ]
  }
 ],
 "metadata": {
  "kernelspec": {
   "display_name": "Python 3 (ipykernel)",
   "language": "python",
   "name": "python3"
  },
  "language_info": {
   "codemirror_mode": {
    "name": "ipython",
    "version": 3
   },
   "file_extension": ".py",
   "mimetype": "text/x-python",
   "name": "python",
   "nbconvert_exporter": "python",
   "pygments_lexer": "ipython3",
   "version": "3.9.7"
  }
 },
 "nbformat": 4,
 "nbformat_minor": 5
}
