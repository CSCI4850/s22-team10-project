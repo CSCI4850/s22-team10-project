{
 "cells": [
  {
   "cell_type": "markdown",
   "id": "0fcea6c0-45df-4362-a353-c767fb9bd948",
   "metadata": {
    "tags": []
   },
   "source": [
    "# Project Milestone 1 <br> March 15"
   ]
  },
  {
   "cell_type": "markdown",
   "id": "9846f392-1dbf-48d7-bf93-bf3f11e01817",
   "metadata": {},
   "source": [
    "|Deliverable|Percent Complete|Estimated Completion Date|Percent Complete by Next Milestone|\n",
    "|---|---|---|---|\n",
    "|Code|0%|April 14|10-15%|\n",
    "|Demo|0%|May 1|0%|\n",
    "|Presentation|0%|May 3|5%|"
   ]
  },
  {
   "cell_type": "markdown",
   "id": "3798f08f-26b6-4d49-bfff-ecf6b1a851ab",
   "metadata": {},
   "source": [
    "1. N/A\n",
    "2. N/A\n",
    "3. Deliverables:\n",
    "    - Introduction of the presentation\n",
    "        - Yassaman\n",
    "    - How and Where to pull images\n",
    "        - Matt\n",
    "    - Decide how to group regions for data collection\n",
    "        - Riley\n",
    "    - Start source code\n",
    "        - Andrew, Jansen"
   ]
  },
  {
   "cell_type": "markdown",
   "id": "b63d653a-184f-40f1-9810-c83587f2e1e1",
   "metadata": {
    "tags": []
   },
   "source": [
    "# Project Milestone 2 <br> March 21"
   ]
  },
  {
   "cell_type": "markdown",
   "id": "295662e4-88f5-43a1-80ef-1e142503b891",
   "metadata": {},
   "source": [
    "|Deliverable|Percent Complete|Estimated Completion Date|Percent Complete by Next Milestone|\n",
    "|---|---|---|---|\n",
    "|Code|5%|April 14|10-15%|\n",
    "|Demo|0%|May 1|0%|\n",
    "|Presentation|5%|May 3|5%|"
   ]
  },
  {
   "cell_type": "markdown",
   "id": "7499c891-db1f-486d-b066-e57322aba50e",
   "metadata": {},
   "source": [
    "1. Jansen: Signed up for Google API in order to collect pictures for data set. <br>\n",
    "   Yassaman: Watched videos regarding geoguessr and how to best present it to the class and looked into different types of presentaion softwares. Found the following resource: https://www.visme.co/presentation-software/\n",
    "2. Andrew: Reviewed online resources and related studies to determine the best deep learning algorithms to use and how to best implement them.<br>\n",
    "   Jansen: Was unable to start pulling images.<br>\n",
    "   Matt: Set up a google cloud platform account and tested scarping some images to ensure we get a set free amount. Started to set up the code to use for our data scraper.<br>\n",
    "   Riley: Experimented with the python extension shapely to get correct portions of the U.S. for sample data.\n",
    "3. Deliverables:\n",
    "    - Learn Google API to create dataset\n",
    "        - Jansen\n",
    "    - Complete code for the data scraper\n",
    "        - Matt\n",
    "    - Continue to learn shapely and how best to implement it\n",
    "        - Riley\n",
    "    - Continue to research neural networks and develop a basic framework to implement.\n",
    "        - Andrew, Yassaman"
   ]
  }
 ],
 "metadata": {
  "kernelspec": {
   "display_name": "Python 3 (ipykernel)",
   "language": "python",
   "name": "python3"
  },
  "language_info": {
   "codemirror_mode": {
    "name": "ipython",
    "version": 3
   },
   "file_extension": ".py",
   "mimetype": "text/x-python",
   "name": "python",
   "nbconvert_exporter": "python",
   "pygments_lexer": "ipython3",
   "version": "3.9.7"
  }
 },
 "nbformat": 4,
 "nbformat_minor": 5
}
