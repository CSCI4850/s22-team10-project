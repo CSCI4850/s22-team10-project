{
 "cells": [
  {
   "cell_type": "markdown",
   "id": "1c4e880f-83f7-48c6-b378-c9fb27cac35f",
   "metadata": {},
   "source": [
    "## Project Milestone 2\n",
    "## March 21\n",
    "\n",
    "|Deliverable|Percent Complete|Estimated Completion Date|Percent Complete by Next Milestone|\n",
    "|---|---|---|---|\n",
    "|Code|0%|April 14|10-15%|\n",
    "|Demo|0%|May 1|0%|\n",
    "|Presentation|0%|May 3|5%|"
   ]
  },
  {
   "cell_type": "markdown",
   "id": "08f61cc2-7a58-44a5-8149-b9b6d97bd7e7",
   "metadata": {},
   "source": [
    "1. - Jansen: Signed up for Google API in order to collect pictures for data set.\n",
    "2. - Jansen: Was unable to start pulling images\n",
    "3. Deliverables:\n",
    "    - Learn Google API to create dataset\n",
    "        - Jansen\n"
   ]
  },
  {
   "cell_type": "code",
   "execution_count": null,
   "id": "dc321cf2-6293-4ec5-9c47-30d4360fd486",
   "metadata": {},
   "outputs": [],
   "source": []
  }
 ],
 "metadata": {
  "kernelspec": {
   "display_name": "Python 3 (ipykernel)",
   "language": "python",
   "name": "python3"
  },
  "language_info": {
   "codemirror_mode": {
    "name": "ipython",
    "version": 3
   },
   "file_extension": ".py",
   "mimetype": "text/x-python",
   "name": "python",
   "nbconvert_exporter": "python",
   "pygments_lexer": "ipython3",
   "version": "3.9.7"
  }
 },
 "nbformat": 4,
 "nbformat_minor": 5
}
