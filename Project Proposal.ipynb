{
 "cells": [
  {
   "cell_type": "markdown",
   "id": "97f3efff-1b33-4665-9734-3a15a4a5f2e6",
   "metadata": {},
   "source": [
    "Formal Proposal:"
   ]
  },
  {
   "cell_type": "markdown",
   "id": "2ed804b7-8441-4bf0-9162-9cb526dd9675",
   "metadata": {},
   "source": [
    "Our team’s goal is to create a neural network to play the United States version of the game, GeoGuessr, and beat the average player’s score. GeoGuessr is a game in which the player is placed in a semi-randomized street view location around the world. The player can rotate the view of the camera 360 degrees and move farther along the street to gather any possible geographical clues (terrain, vegetation, climate, etc.) or even road signs, businesses, and landmarks to determine their best guess for the exact location they are viewing."
   ]
  },
  {
   "cell_type": "markdown",
   "id": "d4857a70-c40a-4c08-8189-4da592473900",
   "metadata": {},
   "source": [
    "We must first gather a large dataset for the network to learn from to train our model. The current best approach to gathering this dataset is by using Google Street View’s static view API. The challenges with this approach are maintaining a free (or cheap) way to extract both the images and the metadata, specifically the latitude and longitude coordinates of each image. Google provides some cost-free use of their developer tools, so we plan to gather enough data to both stay beneath this threshold and provide enough images to create a successful network to use for the game. "
   ]
  },
  {
   "cell_type": "markdown",
   "id": "9a559172-cef1-432c-a0a6-3517d35c97d5",
   "metadata": {},
   "source": [
    "Following a similar location system to the United States National Grid (USNG), our dataset will consist of a select number of locations in each grid to provide the network a fair and equal number of images from each small region. Our current prediction is to divide each of the 30 grids from the USNG into 4 smaller grids and extract up to 350 coordinates and images from each of these 120 grids in the continental United States. "
   ]
  },
  {
   "cell_type": "markdown",
   "id": "d19a4d64-ee68-4c4b-a94f-07a364b17319",
   "metadata": {},
   "source": [
    "We are expecting to implement a multi-layered neural network that is ideal for processing two-dimensional images. The network will begin with learning basic features in the images and associate them with other images in the region to get a generalized understanding of what it expects each grid to look visually. When our network has created a successful model, GeoGuessr will be ready to be played by the model. "
   ]
  },
  {
   "cell_type": "markdown",
   "id": "ec87cbbc-0cef-4853-964e-efe0de1f9cbd",
   "metadata": {},
   "source": [
    "Our planned outcome of our model is for it to make its best estimate of which of the 120 regions the game has placed you in. The success of our model will be easily quantified by comparing our model’s score with the average player’s score in the United States version of GeoGuesser (\\~9,500 points). A player is given five different locations in each round, and each round can result in 0 to 5,000 points depending on how far away their guess is from the actual location (a maximum of 25,000 points is given if each guess is within 150m of the street view’s actual location. Because each game only consists of five images and the difficulty of each round is nearly impossible to compare with another, the quality of our model will be determined by a consistently higher than average score than the average player. There is potential for the model to only guess two locations within 150m and still beat the player, so another means to determine the quality of the model is by comparing the average player’s individual location score (\\~1,900 points) with the network’s individual scores. "
   ]
  }
 ],
 "metadata": {
  "kernelspec": {
   "display_name": "Python 3 (ipykernel)",
   "language": "python",
   "name": "python3"
  },
  "language_info": {
   "codemirror_mode": {
    "name": "ipython",
    "version": 3
   },
   "file_extension": ".py",
   "mimetype": "text/x-python",
   "name": "python",
   "nbconvert_exporter": "python",
   "pygments_lexer": "ipython3",
   "version": "3.9.7"
  }
 },
 "nbformat": 4,
 "nbformat_minor": 5
}
