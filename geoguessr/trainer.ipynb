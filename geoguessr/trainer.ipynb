{
 "cells": [
  {
   "cell_type": "code",
   "execution_count": null,
   "id": "66df5c0f-70e3-40eb-a381-a40674d2b692",
   "metadata": {},
   "outputs": [],
   "source": [
    "from shapely.geometry import Point, Polygon\n",
    "from matplotlib import pyplot as plt\n",
    "from math import sin, cos, sqrt, atan2, radians\n",
    "\n",
    "import shapely\n",
    "import pickle\n",
    "import random\n",
    "import numpy as np\n",
    "import gmaps, os\n",
    "import tensorflow as tf\n",
    "from tensorflow.keras.preprocessing.image import load_img\n",
    "from tensorflow.keras.preprocessing.image import img_to_array\n",
    "from ipywidgets.embed import embed_minimal_html\n",
    "import webbrowser\n",
    "# The functions of Geoguessr class are loaded \n",
    "# from the geoLSTM.py file\n",
    "import neural_network\n",
    "\n",
    "# directory containing data\n",
    "DATADIR = \"/data\"\n",
    "DATACOMBINED = DATADIR + \"/ready_data/\"\n",
    "POLYDIR = \"/data\" \n",
    "# directory to store model in\n",
    "MODELDIR = \"data/models\""
   ]
  },
  {
   "cell_type": "code",
   "execution_count": null,
   "id": "ae52161c-5292-46ac-ab94-01e0e6315d03",
   "metadata": {},
   "outputs": [],
   "source": [
    "# load training image file names\n",
    "TF = np.load(DATADIR + '/ready_data/training.npy')\n",
    "# load testing image file names\n",
    "TESF = np.load(DATADIR +'/ready_data/testing.npy')\n",
    "print(\"Train files: {}, Test files: {}\".format(len(TF), len(TESF)))"
   ]
  },
  {
   "cell_type": "code",
   "execution_count": null,
   "id": "2fa91090-6289-497a-b846-53a0f7ea1e86",
   "metadata": {},
   "outputs": [],
   "source": [
    "# load split grid file\n",
    "usaPolyGrid = pickle.load(open(POLYDIR + \"/usaPolyGrid.pkl\",'rb'))\n",
    "for i in usaPolyGrid.values():\n",
    "    plt.plot(i[:,1],i[:,0], color='black')\n",
    "print(len(usaPolyGrid))"
   ]
  },
  {
   "cell_type": "code",
   "execution_count": null,
   "id": "2de79ac0-cb30-4da5-afc9-657006a9a6ed",
   "metadata": {},
   "outputs": [],
   "source": [
    "geoModel = geoLSTM.Geoguessr(useRestnet=False)"
   ]
  },
  {
   "cell_type": "code",
   "execution_count": null,
   "id": "67821808-0930-416e-9815-b6c3b9c63b4d",
   "metadata": {},
   "outputs": [],
   "source": [
    "geoModel.fit(TF, DATACOMBINED, \n",
    "      saveFolder=MODELDIR, \n",
    "      batchSize=4, \n",
    "      epochs=2,  \n",
    "      plot=True)"
   ]
  },
  {
   "cell_type": "code",
   "execution_count": null,
   "id": "1c2c373a-2f53-4a1a-b0a4-e793944baf12",
   "metadata": {},
   "outputs": [],
   "source": [
    "# modelName = '/restnet_5.738_19.h5'\n",
    "modelName = '/nonrestNet_5.744_12.h5'\n",
    "geoModel = geoLSTM.Geoguessr.load(MODELDIR + modelName)"
   ]
  },
  {
   "cell_type": "code",
   "execution_count": null,
   "id": "f2aeb8c3-e474-4356-950d-c465322859e4",
   "metadata": {},
   "outputs": [],
   "source": [
    "geoModel.predictSingle(TESF[0], DATACOMBINED, ployGrid=usaPolyGrid)"
   ]
  },
  {
   "cell_type": "code",
   "execution_count": null,
   "id": "caee9dcb-b30f-4256-bef5-9ab18aa1ae4a",
   "metadata": {},
   "outputs": [],
   "source": [
    "geoModel.evaluate(TESF, DATACOMBINED, usaPolyGrid)"
   ]
  },
  {
   "cell_type": "code",
   "execution_count": null,
   "id": "a0bd953d-e061-4b17-bb88-1144ec169611",
   "metadata": {},
   "outputs": [],
   "source": [
    "models = []\n",
    "for i in os.listdir(MODELDIR):\n",
    "    models.append(geoLSTM.Geoguessr.load(MODELDIR + '/' +i))"
   ]
  },
  {
   "cell_type": "code",
   "execution_count": null,
   "id": "b85be87a-1807-4dba-8cdb-5c82d3d4dfcc",
   "metadata": {},
   "outputs": [],
   "source": [
    "trainableParams = []\n",
    "avgDistanceError = []\n",
    "for gm in models:\n",
    "    trainableParams.append(sum([tf.keras.backend.count_params(i) for i in gm.model.trainable_weights]))\n",
    "    avgDistanceError.append(gm.evaluate(TESF, DATACOMBINED, usaPolyGrid))"
   ]
  },
  {
   "cell_type": "code",
   "execution_count": null,
   "id": "06bf5688-2f68-41c6-8ab3-a1c5c1559639",
   "metadata": {},
   "outputs": [],
   "source": [
    "plt.bar(np.arange(len(trainableParams)), height=avgDistanceError)\n",
    "plt.xticks(np.arange(len(trainableParams)), trainableParams)\n",
    "plt.xlabel(\"Trainabel paramers per model\")\n",
    "plt.ylabel(\"Average miles\")\n",
    "plt.title(\"Average miles per model\")\n",
    "plt.show()"
   ]
  },
  {
   "cell_type": "code",
   "execution_count": null,
   "id": "5900d3d6-97a0-43b2-a351-f29ac2392d16",
   "metadata": {},
   "outputs": [],
   "source": []
  }
 ],
 "metadata": {
  "kernelspec": {
   "display_name": "Python 3 (ipykernel)",
   "language": "python",
   "name": "python3"
  },
  "language_info": {
   "codemirror_mode": {
    "name": "ipython",
    "version": 3
   },
   "file_extension": ".py",
   "mimetype": "text/x-python",
   "name": "python",
   "nbconvert_exporter": "python",
   "pygments_lexer": "ipython3",
   "version": "3.9.7"
  }
 },
 "nbformat": 4,
 "nbformat_minor": 5
}
