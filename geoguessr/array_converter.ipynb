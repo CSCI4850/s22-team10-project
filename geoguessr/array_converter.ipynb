{
 "cells": [
  {
   "cell_type": "code",
   "execution_count": 1,
   "id": "623974d1-d341-403c-838a-c8c26ea44df5",
   "metadata": {},
   "outputs": [],
   "source": [
    "# save numpy array as npy file\n",
    "from numpy import asarray\n",
    "from numpy import save\n",
    "# define data\n",
    "data = asarray('data/ready_data/training_data')\n",
    "# save to npy file\n",
    "save('training_data.npy', data)"
   ]
  },
  {
   "cell_type": "code",
   "execution_count": 2,
   "id": "5987043c-0f3b-4f22-9d95-a7469dd378bd",
   "metadata": {},
   "outputs": [],
   "source": [
    "data = asarray('data/ready_data/testing_data')\n",
    "# save to npy file\n",
    "save('testing_data.npy', data)"
   ]
  },
  {
   "cell_type": "code",
   "execution_count": null,
   "id": "66baf62e-350f-4bae-b435-8054b9dc1011",
   "metadata": {},
   "outputs": [],
   "source": []
  }
 ],
 "metadata": {
  "kernelspec": {
   "display_name": "Python 3 (ipykernel)",
   "language": "python",
   "name": "python3"
  },
  "language_info": {
   "codemirror_mode": {
    "name": "ipython",
    "version": 3
   },
   "file_extension": ".py",
   "mimetype": "text/x-python",
   "name": "python",
   "nbconvert_exporter": "python",
   "pygments_lexer": "ipython3",
   "version": "3.9.7"
  }
 },
 "nbformat": 4,
 "nbformat_minor": 5
}
