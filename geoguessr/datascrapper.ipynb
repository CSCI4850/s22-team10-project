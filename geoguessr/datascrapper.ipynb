{
 "cells": [
  {
   "cell_type": "code",
   "execution_count": null,
   "id": "44b873bd-32f7-43e1-a57a-64bbb813671b",
   "metadata": {},
   "outputs": [],
   "source": [
    "key = ''\n",
    "import requests\n",
    "import json, os\n",
    "import urllib.request\n",
    "from shapely.geometry import Point, Polygon\n",
    "from matplotlib import pyplot as plt\n",
    "import shapely\n",
    "import pickle\n",
    "import random\n",
    "import numpy as np\n",
    "import gmaps\n",
    "\n",
    "dataDir = \"/data/gmaps_data"
   ]
  },
  {
   "cell_type": "code",
   "execution_count": null,
   "id": "6eb9eb15-d732-4fee-8a6c-8245efb882a0",
   "metadata": {},
   "outputs": [],
   "source": [
    "def plotMap(polyGrid, Loc=[], restrict=[]):\n",
    "    gPoly = []\n",
    "    sLoc = []\n",
    "    sHtext = []\n",
    "    if len(restrict)==0:\n",
    "        restrict = list(polyGrid.keys())\n",
    "        \n",
    "    for k,v in polyGrid.items():\n",
    "        if k in restrict:\n",
    "            gPoly.append(gmaps.Polygon(\n",
    "                            list(v),\n",
    "                            stroke_color='yellow',\n",
    "                            fill_color='green'\n",
    "                            ))\n",
    "            sLoc.append((v[0][0],v[0][1]))\n",
    "            sHtext.append(str(k))\n",
    "    \n",
    "    if len(Loc)!=0:\n",
    "        sLoc = []\n",
    "        sHtext = []\n",
    "        for k,v in Loc.items():\n",
    "            if k in restrict:\n",
    "                sLoc += v\n",
    "                sHtext += [str(k)+str(i) for i in v]\n",
    "        \n",
    "    fig = gmaps.figure(center=(39.50,-98.35), zoom_level=4, map_type='TERRAIN')\n",
    "    fig.add_layer(gmaps.drawing_layer(features=gPoly))\n",
    "    fig.add_layer(gmaps.symbol_layer(sLoc,info_box_content = sHtext, scale = 1))\n",
    "    return fig"
   ]
  },
  {
   "cell_type": "code",
   "execution_count": null,
   "id": "dcb87b9e-f304-4170-85c6-149b278e9063",
   "metadata": {},
   "outputs": [],
   "source": [
    "#Load list of polygons containing us map created in grid creation notebook\n",
    "mainlandGrid = pickle.load(open(\"mainlandGrid.pickle\",'rb'))\n",
    "for i in mainlandGrid.values():\n",
    "    plt.plot(i[:,1],i[:,0])\n",
    "print(len(mainlandGrid))"
   ]
  },
  {
   "cell_type": "code",
   "execution_count": null,
   "id": "39be90e6-8d85-4e20-b815-c1469ffd3fb9",
   "metadata": {},
   "outputs": [],
   "source": [
    "# restrict grids for which data has to collected from. Otherwise data is scraped from all grids\n",
    "searchGrids = mainlandGrid.keys()\n",
    "# searchGrids = list(range(235,244))\n",
    "print(\"Seacrchin Grids: {}\".format(\"All\" if searchGrids==mainlandGrid.keys() else searchGrids))"
   ]
  },
  {
   "cell_type": "code",
   "execution_count": null,
   "id": "80146e18-1f61-4706-84ed-cf6e9f4af844",
   "metadata": {},
   "outputs": [],
   "source": [
    "base = 'https://maps.googleapis.com/maps/api/streetview'\n",
    "ext = '?size=400x200&location={}&fov=100&heading={}&radius={}&pitch=10&key={}'\n",
    "print(\"Seacrchin Grids: {}\".format(\"All\" if searchGrids==mainlandGrid.keys() else searchGrids))\n",
    "for grid,coor in mainlandGrid.items():        \n",
    "    poly = Polygon(np.flip(coor))\n",
    "    minx, miny, maxx, maxy = poly.bounds\n",
    "    count = 0\n",
    "    trials = 0\n",
    "    locList = []\n",
    "    if grid in searchGrids:\n",
    "        saveFolder = dataDir + '/{}'.format(grid)\n",
    "        if os.path.exists(saveFolder)==False:\n",
    "            os.mkdir(saveFolder)\n",
    "        locList = os.listdir(saveFolder)\n",
    "        print(\"################## Searching grid {} ###################\".format(grid))\n",
    "        print(\"Save folder {}\".format(saveFolder))\n",
    "        print(\"Existing locations {}\".format(locList))\n",
    "        while count<20 and trials<10:\n",
    "            pnt = Point(random.uniform(minx, maxx), random.uniform(miny, maxy))\n",
    "            location = str(pnt.y)+','+str(pnt.x)\n",
    "            if (poly.contains(pnt)) and (location not in locList):\n",
    "                metaUrl = base + '/metadata' + ext.format(location, 0, 10000, key)\n",
    "                r = requests.get(metaUrl).json()\n",
    "                trials += 1\n",
    "                print(\"Trial: {}, count: {}\".format(trials,count))\n",
    "                if r['status']=='OK' and poly.contains(Point(r['location']['lng'],r['location']['lat'])):\n",
    "                    location = str(r['location']['lat'])+','+str(r['location']['lng'])\n",
    "                    if (location not in locList):\n",
    "                        print(\"Valid location found: {}\".format(location))\n",
    "                        locList.append(location)\n",
    "                        saveFile = saveFolder + \"/{}\".format(location)\n",
    "                        if os.path.exists(saveFile)==False:\n",
    "                            os.mkdir(saveFile)\n",
    "\n",
    "                        for heading in [0,90,180]:\n",
    "                            imgUrl = base + ext.format(location, heading, 10000, key)\n",
    "                            urllib.request.urlretrieve(imgUrl,saveFile+'/{}_{}.jpg'.format(heading,r['date']))\n",
    "                        count += 1\n",
    "                        trials = 0\n",
    "                    else:\n",
    "                        print(\"Failed trial {} location exists\".format(trials))\n",
    "                        print(\"Location {}\".format(location))\n",
    "                else:\n",
    "                    print(\"Failed trial {} status or contains\".format(trials))\n",
    "                    print(\"Location {}\".format(location))\n",
    "        print(locList)\n",
    "        print(\"No duplicates: {}\".format(len(locList)==len(set(locList))))\n",
    "        print(\"########## Final locations for grid {}: {} ############\".format(grid, len(locList)))"
   ]
  }
 ],
 "metadata": {
  "kernelspec": {
   "display_name": "Python 3 (ipykernel)",
   "language": "python",
   "name": "python3"
  },
  "language_info": {
   "codemirror_mode": {
    "name": "ipython",
    "version": 3
   },
   "file_extension": ".py",
   "mimetype": "text/x-python",
   "name": "python",
   "nbconvert_exporter": "python",
   "pygments_lexer": "ipython3",
   "version": "3.9.7"
  }
 },
 "nbformat": 4,
 "nbformat_minor": 5
}
